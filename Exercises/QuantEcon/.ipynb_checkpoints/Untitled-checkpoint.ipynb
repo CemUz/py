{
 "cells": [
  {
   "cell_type": "code",
   "execution_count": 4,
   "metadata": {},
   "outputs": [],
   "source": [
    "def number_generator(numberflips):\n",
    "    success=0\n",
    "    consecution=0\n",
    "    for i in range(numberflips):\n",
    "        coin=np.random.uniform(0,1)\n",
    "        if coin<0.5:\n",
    "            consecution=consecution+1\n",
    "        else:\n",
    "            consecution=0\n",
    "    return(consecution)"
   ]
  },
  {
   "cell_type": "code",
   "execution_count": 18,
   "metadata": {},
   "outputs": [
    {
     "name": "stdout",
     "output_type": "stream",
     "text": [
      "[5, 3, 6, 6, 7, 5, 2, 3, 5, 4, 3, 3, 5, 4, 3, 7, 6, 4, 7, 5, 5, 4, 7, 8, 4, 7, 6, 4, 6, 6, 4, 6, 5, 1, 4, 4, 5, 6, 4, 5, 6, 5, 3, 4, 6, 2, 1, 4, 5, 5, 6, 5, 7, 4, 4, 6, 6, 8, 7, 4, 5, 3, 4, 4, 3, 7, 3, 6, 7, 5, 1, 7, 8, 2, 4, 6, 4, 5, 6, 6, 6, 6, 8, 3, 5, 6, 7, 8, 4, 2, 3, 4, 5, 4, 4, 5, 6, 6, 4, 3]\n"
     ]
    }
   ],
   "source": [
    "import numpy as np\n",
    "histogram=[]\n",
    "for i in range(100):\n",
    "    data=number_generator(10)\n",
    "    histogram.append(data)\n",
    "print(histogram)\n",
    "    \n",
    "    "
   ]
  },
  {
   "cell_type": "code",
   "execution_count": null,
   "metadata": {},
   "outputs": [],
   "source": []
  },
  {
   "cell_type": "code",
   "execution_count": null,
   "metadata": {},
   "outputs": [],
   "source": []
  }
 ],
 "metadata": {
  "kernelspec": {
   "display_name": "Python 3",
   "language": "python",
   "name": "python3"
  },
  "language_info": {
   "codemirror_mode": {
    "name": "ipython",
    "version": 3
   },
   "file_extension": ".py",
   "mimetype": "text/x-python",
   "name": "python",
   "nbconvert_exporter": "python",
   "pygments_lexer": "ipython3",
   "version": "3.7.6"
  }
 },
 "nbformat": 4,
 "nbformat_minor": 4
}
