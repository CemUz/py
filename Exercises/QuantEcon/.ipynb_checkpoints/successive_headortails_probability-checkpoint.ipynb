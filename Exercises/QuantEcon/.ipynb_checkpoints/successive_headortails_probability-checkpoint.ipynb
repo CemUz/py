{
 "cells": [
  {
   "cell_type": "code",
   "execution_count": 1,
   "metadata": {},
   "outputs": [],
   "source": [
    "def outcome_generator(numberflips):\n",
    "    \n",
    "    result=[]\n",
    "    \n",
    "    for i in range(numberflips):\n",
    "        \n",
    "        coin=np.random.uniform(0,1)\n",
    "        \n",
    "        if coin<0.5:\n",
    "            result.append('head')\n",
    "        if coin>0.5:\n",
    "            result.append('tails')\n",
    "    \n",
    "    return(result)"
   ]
  },
  {
   "cell_type": "code",
   "execution_count": 2,
   "metadata": {},
   "outputs": [],
   "source": [
    "def consecutive_counter(numberflips):\n",
    "    \n",
    "    result=outcome_generator(numberflips)\n",
    "    consecutive=1\n",
    "    consecutivelist=[]\n",
    "    \n",
    "    for i in range(numberflips-1):  \n",
    "        \n",
    "        if result[i]==result[i+1]:\n",
    "            consecutive=consecutive+1\n",
    "        else:\n",
    "            consecutivelist.append(int(consecutive))\n",
    "            consecutive=1\n",
    "            \n",
    "    if consecutive!=1:\n",
    "        consecutivelist.append(int(consecutive))\n",
    "    \n",
    "    return(consecutivelist)"
   ]
  },
  {
   "cell_type": "code",
   "execution_count": 13,
   "metadata": {},
   "outputs": [
    {
     "name": "stdout",
     "output_type": "stream",
     "text": [
      "1\n"
     ]
    },
    {
     "data": {
      "image/png": "[encoded data removed]",
      "text/plain": [
       "<Figure size 432x288 with 1 Axes>"
      ]
     },
     "metadata": {
      "needs_background": "light"
     },
     "output_type": "display_data"
    }
   ],
   "source": [
    "import numpy as np\n",
    "import matplotlib.pyplot as plt\n",
    "\n",
    "numberflips=1000\n",
    "data=consecutive_counter(numberflips)\n",
    "\n",
    "bins = [x+n for n in range(np.min(data),np.max(data)+1) for x in [0, 1]]+[np.max(data)+1]\n",
    "\n",
    "plt.hist(data, bins, #range=[1,10],\n",
    "         histtype='bar', align='left',\n",
    "         orientation='vertical', log=True, color='skyblue', ec='black', lw=1)\n",
    "\n",
    "ticks=plt.xticks(range(np.min(data),np.max(data)+1))\n",
    "\n",
    "print(np.min(data))"
   ]
  },
  {
   "cell_type": "code",
   "execution_count": 25,
   "metadata": {},
   "outputs": [],
   "source": [
    "'''Use more two coins! For this generate the outcome for two coins. \n",
    "MAYHAPS with only one list and use neighboring throws.'''\n",
    "def dual_outcome_generator(numberflips):\n",
    "    \n",
    "    list1=[]\n",
    "    list2=[]\n",
    "    \n",
    "    for i in range(numberflips):\n",
    "        \n",
    "        coin1=np.random.uniform(0,1)        \n",
    "        if coin1<0.5:\n",
    "            list1.append('head')\n",
    "        if coin1>0.5:\n",
    "            list1.append('tails')\n",
    "        \n",
    "        coin2=np.random.uniform(0,1)\n",
    "        if coin2<0.5:\n",
    "            list2.append('head')\n",
    "        if coin2>0.5:\n",
    "            list2.append('tails')\n",
    "    \n",
    "    return(list1, list2)"
   ]
  },
  {
   "cell_type": "code",
   "execution_count": 23,
   "metadata": {},
   "outputs": [],
   "source": [
    "'''optimised by integration of throws and analysis of successive outcomes.\n",
    "This makes a list of outcomes obsolete and only the number of successions is generated.'''\n",
    "\n",
    "def outcome_generator(numberflips):\n",
    "    \n",
    "    outcomelist=[]\n",
    "    result=[]\n",
    "    H=0\n",
    "    T=0\n",
    "    \n",
    "    for i in range(numberflips):\n",
    "        \n",
    "        coin=np.random.uniform(0,1)\n",
    "        \n",
    "        if coin>0.5:\n",
    "            if T!=0:\n",
    "                result.append(T)\n",
    "                T=0\n",
    "            H=H+1\n",
    "            \n",
    "        if coin<0.5:\n",
    "            if H!=0:\n",
    "                result.append(H)\n",
    "                H=0\n",
    "            T=T+1\n",
    "            \n",
    "    if H!=0:\n",
    "        result.append(H)\n",
    "    if T!=0:\n",
    "        result.append(T)\n",
    "        \n",
    "    return(result)"
   ]
  },
  {
   "cell_type": "code",
   "execution_count": 48,
   "metadata": {},
   "outputs": [
    {
     "name": "stdout",
     "output_type": "stream",
     "text": [
      "[1, 2, 2, 3, 3, 4, 4, 5, 5, 6, 6, 7, 7, 8, 8, 9, 9, 10, 10, 11, 11, 12, 12, 13, 13, 14, 14, 15, 15, 16, 16, 17, 17, 18, 18, 19, 19, 20, 20, 21, 21, 22, 22]\n"
     ]
    },
    {
     "data": {
      "image/png": "[encoded data removed]",
      "text/plain": [
       "<Figure size 1296x576 with 1 Axes>"
      ]
     },
     "metadata": {
      "needs_background": "light"
     },
     "output_type": "display_data"
    }
   ],
   "source": [
    "import numpy as np\n",
    "import matplotlib.pyplot as plt\n",
    "\n",
    "numberflips=1000000\n",
    "\n",
    "data=outcome_generator(numberflips)\n",
    "\n",
    "plt.figure(figsize=[18,8])\n",
    "\n",
    "bins=[x+n for n in range(np.min(data),np.max(data)+1) for x in [0, 1]]+[np.max(data)+1]\n",
    "ticks=plt.xticks(range(np.min(data),np.max(data)+1))\n",
    "\n",
    "plt.hist(data, bins, #range=[1,10],\n",
    "         histtype='bar', align='left',\n",
    "         orientation='vertical', log=True, color='skyblue', ec='black', lw=1)\n",
    "\n",
    "print(bins)"
   ]
  },
  {
   "cell_type": "code",
   "execution_count": null,
   "metadata": {},
   "outputs": [],
   "source": []
  }
 ],
 "metadata": {
  "kernelspec": {
   "display_name": "Python 3",
   "language": "python",
   "name": "python3"
  },
  "language_info": {
   "codemirror_mode": {
    "name": "ipython",
    "version": 3
   },
   "file_extension": ".py",
   "mimetype": "text/x-python",
   "name": "python",
   "nbconvert_exporter": "python",
   "pygments_lexer": "ipython3",
   "version": "3.7.6"
  }
 },
 "nbformat": 4,
 "nbformat_minor": 4
}
