{
 "cells": [
  {
   "cell_type": "code",
   "execution_count": 80,
   "metadata": {},
   "outputs": [
    {
     "name": "stdout",
     "output_type": "stream",
     "text": [
      "2\n",
      "2\n"
     ]
    }
   ],
   "source": [
    "pairs = ((2, 5), (4, 2), (9, 8), (12, 10))\n",
    "#count the number of pairs (a, b) such that both a and b are even.\n",
    "\n",
    "xlist=[]\n",
    "ylist=[]\n",
    "\n",
    "for i in range(len(pairs)):\n",
    "    x, y = pairs[i]\n",
    "    xlist.append(x)\n",
    "    ylist.append(y)\n",
    "\n",
    "z=sum(c%2 for c in [x+y for x,y in zip(xlist,ylist)])\n",
    "print(z)\n",
    "#oder\n",
    "\n",
    "t=sum([y%2==0 and x%2==0 for x,y in pairs])\n",
    "print(t)\n",
    "\n",
    "    \n",
    "    "
   ]
  },
  {
   "cell_type": "code",
   "execution_count": 64,
   "metadata": {},
   "outputs": [
    {
     "data": {
      "text/plain": [
       "50"
      ]
     },
     "execution_count": 64,
     "metadata": {},
     "output_type": "execute_result"
    }
   ],
   "source": [
    "sum(x%2 for x in range(100))"
   ]
  },
  {
   "cell_type": "code",
   "execution_count": 35,
   "metadata": {},
   "outputs": [
    {
     "data": {
      "image/png": "[encoded data removed]",
      "text/plain": [
       "<Figure size 432x288 with 1 Axes>"
      ]
     },
     "metadata": {
      "needs_background": "light"
     },
     "output_type": "display_data"
    }
   ],
   "source": [
    "'''Generates a plot of inner products calculated for 2 vectors generated in 1 to k dimensional spaces'''\n",
    "import numpy as np\n",
    "import matplotlib.pyplot as plt\n",
    "\n",
    "k=0\n",
    "kmax=1000\n",
    "\n",
    "innerlist=[]\n",
    "\n",
    "while k!=kmax: #loop kmax times\n",
    "    vlist=[] \n",
    "    wlist=[]\n",
    "    \n",
    "    for i in range(k): #Generate lists with increasing length representing vectors in k dimensions\n",
    "        vlist.append(np.random.uniform(0,1)) #vector 1\n",
    "        wlist.append(np.random.uniform(0,1)) #vector 2\n",
    "    \n",
    "    inner=sum([vdimensions*wdimensions for vdimensions, wdimensions in zip(vlist, wlist)])\n",
    "\n",
    "    innerlist.append(inner) #add inner product for respective k to final list\n",
    "\n",
    "    k+=1 #increment k towards kmax\n",
    "    \n",
    "plt.plot(innerlist)\n",
    "plt.show()"
   ]
  },
  {
   "cell_type": "code",
   "execution_count": 1,
   "metadata": {},
   "outputs": [],
   "source": [
    "def vector_gene_simple(k):\n",
    "    '''Generate 2 vectors in a k-dimensional euclidian space\n",
    "    using array creation with np.random.random'''\n",
    "    \n",
    "    import numpy as np\n",
    "    vectors=2*np.random.random((2,k))-1\n",
    "    \n",
    "    return(vectors)\n",
    "\n",
    "def vector_gene_complicated(k):\n",
    "    '''Generate 2 vectors in a k-dimensional euclidian space\n",
    "    using an array created with np.empty and np.random.random'''\n",
    "    \n",
    "    import numpy as np\n",
    "    vectors=np.empty((2,k))\n",
    "    \n",
    "    for i in range(2):\n",
    "        \n",
    "        for j in range(k):\n",
    "            vectors[i, j] = 2*np.random.uniform()-1 \n",
    "            \n",
    "    return(vectors)\n",
    "\n",
    "def vector_gene_complicated_normal(k):\n",
    "    '''Generate 2 vectors in a k-dimensional euclidian space\n",
    "    using an array created with np.empty and np.random.random'''\n",
    "    \n",
    "    import numpy as np\n",
    "    vectors=np.empty((2,k))\n",
    "    \n",
    "    for i in range(2):\n",
    "        \n",
    "        for j in range(k):\n",
    "            vectors[i, j] = np.random.normal(loc=0.0, scale=0.75) \n",
    "            \n",
    "    return(vectors)  "
   ]
  },
  {
   "cell_type": "code",
   "execution_count": 2,
   "metadata": {},
   "outputs": [],
   "source": [
    "def vector_gene(U):\n",
    "    '''This is a switch which upon the nature of U \n",
    "    switches between the existing three generators.'''\n",
    "    \n",
    "    if U=='simple':\n",
    "        data=vector_gene_simple(k)\n",
    "    elif U=='complicated':\n",
    "        data=vector_gene_complicated(k)\n",
    "    elif U=='normal':\n",
    "        data=vector_gene_complicated_normal(k)\n",
    "    \n",
    "    return(data)"
   ]
  },
  {
   "cell_type": "code",
   "execution_count": 3,
   "metadata": {},
   "outputs": [],
   "source": [
    "def innerproduct_gene(k,generator_type):\n",
    "    '''Depending upon the generator_type requested, an array will be generated and fed into this subscript.\n",
    "    Here the inner product can be calculated and is returned.'''\n",
    "        \n",
    "    vector_array=vector_gene(generator_type)\n",
    "    \n",
    "    x=vector_array.transpose()\n",
    "    #Arrange your array in such a way,\n",
    "    #that values are grouped according to the dimensions\n",
    "    \n",
    "    innerproduct=0\n",
    "\n",
    "    for i in range(k):\n",
    "   \n",
    "        directionalvalues=x[i] #slice out all directional values for one dimension\n",
    "        y=1\n",
    "        \n",
    "        for j in range(2):\n",
    "            y=y*directionalvalues[j] #multiplicate all directional values\n",
    "        \n",
    "        innerproduct=innerproduct+y\n",
    "    \n",
    "    return(innerproduct)"
   ]
  },
  {
   "cell_type": "code",
   "execution_count": 4,
   "metadata": {},
   "outputs": [],
   "source": [
    "def vector_gene_simple_angles():\n",
    "    '''If vectors are defined by the angle between them, \n",
    "    generate 2 vectors in polar coordinates with equal length\n",
    "    in 2 dimensions,using np.random.random.\n",
    "    Length of vectors is 1, why cos(angle) equals the inner product.'''\n",
    "    \n",
    "    import numpy as np\n",
    "    angles=2*np.pi*np.random.random() #generate a random number between 0 to 2pi\n",
    "    product=angles \n",
    "    \n",
    "    for i in range(2):\n",
    "        product=np.cos(angles)   \n",
    "    \n",
    "    return(product)"
   ]
  },
  {
   "cell_type": "code",
   "execution_count": 50,
   "metadata": {},
   "outputs": [
    {
     "data": {
      "image/png": "[encoded data removed]",
      "text/plain": [
       "<Figure size 432x288 with 1 Axes>"
      ]
     },
     "metadata": {
      "needs_background": "light"
     },
     "output_type": "display_data"
    }
   ],
   "source": [
    "'''Set number of dimensions(k) and generator script (U = simple V complicated V normal) for cartesian.\n",
    "If you want same length of vectors use polar coordinates in 2 dim. (k=2): Use generator_type='polar'.\n",
    "Set n according to the number of scalar products you need.'''\n",
    "\n",
    "import numpy as np\n",
    "import matplotlib.pyplot as plt\n",
    "\n",
    "k=10\n",
    "n=500\n",
    "generator_type='simple'\n",
    "\n",
    "innerproducts=[]\n",
    "\n",
    "for i in range(n):\n",
    "    \n",
    "    if generator_type=='polar':\n",
    "        \n",
    "        product=vector_gene_simple_angles()\n",
    "    \n",
    "    else:  \n",
    "    \n",
    "        product=innerproduct_gene(k,generator_type)\n",
    "       \n",
    "    innerproducts.append(product)\n",
    "\n",
    "\n",
    "innerproducts.sort()\n",
    "#plt.hist(innerproducts)\n",
    "plt.plot(innerproducts, marker='o', color='r', linestyle='None', markersize=0.5)\n",
    "plt.show()\n"
   ]
  },
  {
   "cell_type": "code",
   "execution_count": 105,
   "metadata": {
    "scrolled": false
   },
   "outputs": [],
   "source": [
    "#x, y=zip(vector_array.transpose())\n",
    "\n",
    "#fig = plt.figure(figsize=(10,7))\n",
    "#plt.axes().set_aspect('equal')\n",
    "#plt.scatter(x,y)\n",
    "#plt.show()\n",
    "\n",
    "#'''perhaps define coloring better?'''\n",
    "#fig = plt.figure(figsize=(10,7))\n",
    "#plt.axes().set_aspect('equal')\n",
    "#origin=[0],[0]\n",
    "#plt.quiver(*origin, x, y, color=['r','g','b'], scale=5)\n",
    "#plt.show()"
   ]
  },
  {
   "cell_type": "code",
   "execution_count": 112,
   "metadata": {},
   "outputs": [],
   "source": []
  },
  {
   "cell_type": "code",
   "execution_count": null,
   "metadata": {},
   "outputs": [],
   "source": [
    "\n",
    "\n",
    "\n"
   ]
  },
  {
   "cell_type": "code",
   "execution_count": null,
   "metadata": {},
   "outputs": [],
   "source": []
  },
  {
   "cell_type": "code",
   "execution_count": null,
   "metadata": {},
   "outputs": [],
   "source": []
  }
 ],
 "metadata": {
  "kernelspec": {
   "display_name": "Python 3",
   "language": "python",
   "name": "python3"
  },
  "language_info": {
   "codemirror_mode": {
    "name": "ipython",
    "version": 3
   },
   "file_extension": ".py",
   "mimetype": "text/x-python",
   "name": "python",
   "nbconvert_exporter": "python",
   "pygments_lexer": "ipython3",
   "version": "3.7.7"
  }
 },
 "nbformat": 4,
 "nbformat_minor": 4
}
