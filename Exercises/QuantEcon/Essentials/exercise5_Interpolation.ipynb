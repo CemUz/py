{
 "cells": [
  {
   "cell_type": "code",
   "execution_count": 4,
   "metadata": {},
   "outputs": [],
   "source": [
    "def f(x, coeff):\n",
    "        \n",
    "    y=sum([coefficient*(x**index) for index, coefficient in enumerate(coeff)])\n",
    "\n",
    "    return(y)"
   ]
  },
  {
   "cell_type": "code",
   "execution_count": 128,
   "metadata": {
    "scrolled": true
   },
   "outputs": [
    {
     "name": "stdout",
     "output_type": "stream",
     "text": [
      "[-10, -5.0, 0.0, 5.0, 10.0]\n"
     ]
    },
    {
     "data": {
      "text/plain": [
       "<matplotlib.collections.PathCollection at 0x16e48072348>"
      ]
     },
     "execution_count": 128,
     "metadata": {},
     "output_type": "execute_result"
    },
    {
     "data": {
      "image/png": "[encoded data removed]",
      "text/plain": [
       "<Figure size 432x288 with 1 Axes>"
      ]
     },
     "metadata": {
      "needs_background": "light"
     },
     "output_type": "display_data"
    }
   ],
   "source": [
    "import numpy as np\n",
    "import matplotlib. pyplot as plt\n",
    "\n",
    "maxpower=2 #for polynome generation, maximum power denotes part with highest power\n",
    "coeff=[] #generate empty list for coefficient generation\n",
    "    \n",
    "for i in range(maxpower+1):\n",
    "    #Make a list of coefficients. if a coefficient should be zero, \n",
    "    #just add some commands to overwrite the respective positions in the list with zero\n",
    "    coeff.append(np.random.uniform(-2,2))\n",
    "\n",
    "a=-10 #start of intervall\n",
    "b=10 #end of intervall\n",
    "n=5 #number of gridpoints between every integer\n",
    "x=a#counter for loop\n",
    "datalist=[] #write results in this list for later plotting\n",
    "xlist=[] #write evaluated x-values in a list for the use as an axis\n",
    "step=(b-a)/(n-1)#distance between grid points\n",
    "\n",
    "for i in range(n): \n",
    "    #calculate successive x-values between a and b \n",
    "    #in a grid with n points.\n",
    "    data=f(x, coeff)\n",
    "    datalist.append(data)\n",
    "    xlist.append(x)\n",
    "    x+=step #In the next round calculate the neighboring x-value which has such a distance,\n",
    "                    #that the total amount of grid points(n) is evenly spaced inside the intervall [a,b]\n",
    "\n",
    "print(xlist)\n",
    "plt.scatter(xlist, datalist)\n",
    "\n"
   ]
  },
  {
   "cell_type": "code",
   "execution_count": 132,
   "metadata": {},
   "outputs": [
    {
     "name": "stdout",
     "output_type": "stream",
     "text": [
      "distance: 17.5,step: 5.0\n",
      "stepcounter: 3,distance: 2.5\n",
      "coordinates: (5.0, 36.005952699479366, 10.0, 141.16677186732497)\n",
      "yges=21.032163833569122*2.5+-69.15486646836624\n",
      "7.5 -16.574456884443435 -69.15486646836624\n"
     ]
    }
   ],
   "source": [
    "xges=7.5 #requested x-value\n",
    "dist=xges-a #distance of xges from a\n",
    "print(f'distance: {dist},step: {step}')\n",
    "stepcounter=0\n",
    "\n",
    "while dist>=step: #as long as the distance is longer than a step\n",
    "    dist=dist-step #cut off a step from dist, till the distance is less than a step\n",
    "    stepcounter+=1\n",
    "\n",
    "print(f'stepcounter: {stepcounter},distance: {dist}')\n",
    "print(f'coordinates: {xlist[stepcounter], datalist[stepcounter], xlist[stepcounter+1], datalist[stepcounter+1]}')\n",
    "\n",
    "yone=datalist[stepcounter]\n",
    "xone=xlist[stepcounter]\n",
    "ytwo=datalist[stepcounter+1]\n",
    "xtwo=xlist[stepcounter+1]\n",
    "\n",
    "m=(yone-ytwo)/(xone-xtwo)\n",
    "c=yone-m*xone\n",
    "\n",
    "yges=m*dist+c\n",
    "print(f'yges={m}*{dist}+{c}') '''Heres a probelM? '''\n",
    "print(xges,yges, c)\n",
    "\n",
    "\n",
    "\n",
    "\n",
    "\n",
    "\n",
    "  "
   ]
  },
  {
   "cell_type": "code",
   "execution_count": null,
   "metadata": {},
   "outputs": [],
   "source": []
  }
 ],
 "metadata": {
  "kernelspec": {
   "display_name": "Python 3",
   "language": "python",
   "name": "python3"
  },
  "language_info": {
   "codemirror_mode": {
    "name": "ipython",
    "version": 3
   },
   "file_extension": ".py",
   "mimetype": "text/x-python",
   "name": "python",
   "nbconvert_exporter": "python",
   "pygments_lexer": "ipython3",
   "version": "3.7.6"
  }
 },
 "nbformat": 4,
 "nbformat_minor": 4
}
