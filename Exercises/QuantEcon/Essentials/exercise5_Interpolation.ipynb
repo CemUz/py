{
 "cells": [
  {
   "cell_type": "code",
   "execution_count": 39,
   "metadata": {
    "scrolled": true
   },
   "outputs": [],
   "source": [
    "def f(x, coeff):\n",
    "    '''This is a polynome generator, taking in a list of coefficients for the definition of the polynome'''\n",
    "    y=sum([coefficient*(x**index) for index, coefficient in enumerate(coeff)])\n",
    "\n",
    "    return(y)\n",
    "\n",
    "\n",
    "def yges_gen(xges,a,b,n,coeff):\n",
    "    \n",
    "    x=a   #counter for loop\n",
    "    datalist=[] #write results in this list for later plotting\n",
    "    xlist=[] #write evaluated x-values in a list for the use as an axis\n",
    "    step=(b-a)/(n-1)#distance between grid points\n",
    "\n",
    "    for i in range(n): \n",
    "        #calculate successive x-values between a and b \n",
    "        #in a grid with n points.\n",
    "        data=f(x, coeff)\n",
    "        datalist.append(data)\n",
    "        xlist.append(x)\n",
    "        x+=step #In the next round calculate the neighboring x-value which has such a distance,\n",
    "                #that the total amount of grid points(n) is evenly spaced inside the intervall [a,b]\n",
    "    \n",
    "\n",
    "    dist=xges-a #distance of xges from a\n",
    "\n",
    "    stepcounter=0\n",
    "\n",
    "    while dist>=step: #as long as the distance is longer than a step\n",
    "        dist=dist-step #cut off a step from dist, till the distance is less than a step\n",
    "        stepcounter+=1\n",
    "\n",
    "    yone=datalist[stepcounter]\n",
    "    xone=xlist[stepcounter]\n",
    "    ytwo=datalist[stepcounter+1]\n",
    "    xtwo=xlist[stepcounter+1]\n",
    "\n",
    "    m=(yone-ytwo)/(xone-xtwo) #calculate steepness of linear polynome\n",
    "    c=yone-m*xone #calculate c by inserting m into a function fo r a linear polynome\n",
    "\n",
    "    yges=m*xges+c\n",
    "            \n",
    "    return(float(yges), datalist, xlist)"
   ]
  },
  {
   "cell_type": "code",
   "execution_count": 99,
   "metadata": {},
   "outputs": [
    {
     "data": {
      "text/plain": [
       "<matplotlib.collections.PathCollection at 0x2606b637c48>"
      ]
     },
     "execution_count": 99,
     "metadata": {},
     "output_type": "execute_result"
    },
    {
     "data": {
      "image/png": "[encoded data removed]",
      "text/plain": [
       "<Figure size 432x288 with 1 Axes>"
      ]
     },
     "metadata": {
      "needs_background": "light"
     },
     "output_type": "display_data"
    }
   ],
   "source": [
    "import numpy as np\n",
    "import matplotlib. pyplot as plt\n",
    "\n",
    "coeff=[0,0,1] #Enter coefficients for the polynome, \n",
    "         #u can enter 0 if you dont want a polynomial part with a certain power\n",
    "\n",
    "a=-0.1 #start of intervall\n",
    "b=0.1  #end of intervall\n",
    "n=3  #number of gridpoints between every integer\n",
    " \n",
    "i=a\n",
    "\n",
    "xges=a #requested x-value\n",
    "dotlist=[]\n",
    "xdot=[]\n",
    "\n",
    "while i<b:\n",
    "    \n",
    "    approx=yges_gen(xges,a,b,n,coeff)\n",
    "    dotlist.append(approx[0])\n",
    "    xdot.append(xges)\n",
    "    xges+=step/(b-a)\n",
    "    i+=step/(b-a)\n",
    "    \n",
    "\n",
    "plt.scatter(approx[2],approx[1])\n",
    "plt.scatter(xdot,dotlist,s=10)"
   ]
  },
  {
   "cell_type": "code",
   "execution_count": null,
   "metadata": {},
   "outputs": [],
   "source": []
  }
 ],
 "metadata": {
  "kernelspec": {
   "display_name": "Python 3",
   "language": "python",
   "name": "python3"
  },
  "language_info": {
   "codemirror_mode": {
    "name": "ipython",
    "version": 3
   },
   "file_extension": ".py",
   "mimetype": "text/x-python",
   "name": "python",
   "nbconvert_exporter": "python",
   "pygments_lexer": "ipython3",
   "version": "3.7.6"
  }
 },
 "nbformat": 4,
 "nbformat_minor": 4
}
