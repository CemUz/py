{
 "cells": [
  {
   "cell_type": "code",
   "execution_count": 1,
   "metadata": {},
   "outputs": [
    {
     "data": {
      "text/plain": [
       "[<matplotlib.lines.Line2D at 0x1edd1388c08>]"
      ]
     },
     "execution_count": 1,
     "metadata": {},
     "output_type": "execute_result"
    },
    {
     "data": {
      "image/png": "[encoded data removed]",
      "text/plain": [
       "<Figure size 432x288 with 1 Axes>"
      ]
     },
     "metadata": {
      "needs_background": "light"
     },
     "output_type": "display_data"
    }
   ],
   "source": [
    "def polynomial(x, coeff):\n",
    "        \n",
    "    y=sum([coefficient*(x**index) for index, coefficient in enumerate(coeff)])\n",
    "\n",
    "    return(y)\n",
    "          \n",
    "import numpy as np\n",
    "import matplotlib. pyplot as plt\n",
    "\n",
    "c=4\n",
    "coeff=[] \n",
    "\n",
    "for i in range(c+1): #make a list of the coefficients\n",
    "    coeff.append(np.random.uniform(0.5,2)) \n",
    "    \n",
    "x=0 #first x-value to be calculated\n",
    "datalist=[] #this is the list of the calculated values\n",
    "\n",
    "for i in range(100):\n",
    "    data=polynomial(x, coeff) #call the calculation for x\n",
    "    datalist.append(data) #register the calculated value in the list\n",
    "    x+=1 #move to the next value to be calculated\n",
    "    \n",
    "plt.plot(datalist)\n",
    "\n"
   ]
  },
  {
   "cell_type": "code",
   "execution_count": null,
   "metadata": {},
   "outputs": [],
   "source": []
  },
  {
   "cell_type": "code",
   "execution_count": null,
   "metadata": {},
   "outputs": [],
   "source": []
  }
 ],
 "metadata": {
  "kernelspec": {
   "display_name": "Python 3",
   "language": "python",
   "name": "python3"
  },
  "language_info": {
   "codemirror_mode": {
    "name": "ipython",
    "version": 3
   },
   "file_extension": ".py",
   "mimetype": "text/x-python",
   "name": "python",
   "nbconvert_exporter": "python",
   "pygments_lexer": "ipython3",
   "version": "3.7.6"
  }
 },
 "nbformat": 4,
 "nbformat_minor": 4
}
