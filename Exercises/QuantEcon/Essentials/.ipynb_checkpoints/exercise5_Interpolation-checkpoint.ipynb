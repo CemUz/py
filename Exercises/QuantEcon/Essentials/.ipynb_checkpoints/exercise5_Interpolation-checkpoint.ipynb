{
 "cells": [
  {
   "cell_type": "code",
   "execution_count": 1,
   "metadata": {},
   "outputs": [],
   "source": [
    "def f(x, coeff):\n",
    "        \n",
    "    y=sum([coefficient*(x**index) for index, coefficient in enumerate(coeff)])\n",
    "\n",
    "    return(y)"
   ]
  },
  {
   "cell_type": "code",
   "execution_count": 64,
   "metadata": {
    "scrolled": true
   },
   "outputs": [
    {
     "data": {
      "text/plain": [
       "<matplotlib.collections.PathCollection at 0x1f8526dfa48>"
      ]
     },
     "execution_count": 64,
     "metadata": {},
     "output_type": "execute_result"
    },
    {
     "data": {
      "image/png": "[encoded data removed]",
      "text/plain": [
       "<Figure size 432x288 with 1 Axes>"
      ]
     },
     "metadata": {
      "needs_background": "light"
     },
     "output_type": "display_data"
    }
   ],
   "source": [
    "import numpy as np\n",
    "import matplotlib. pyplot as plt\n",
    "\n",
    "maxpower=4 #for polynome generation, maximum power denotes part with highest power\n",
    "coeff=[] #generate empty list for coefficient generation\n",
    "    \n",
    "for i in range(maxpower+1):\n",
    "    #Make a list of coefficients. if a coefficient should be zero, \n",
    "    #just add some commands to overwrite the respective positions in the list with zero\n",
    "    coeff.append(np.random.uniform(-2,2))\n",
    "\n",
    "a=-12 #start of intervall\n",
    "b=12 #end of intervall\n",
    "n=20 #number of gridpoints between every integer\n",
    "x=a#counter for loop\n",
    "datalist=[] #write results in this list for later plotting\n",
    "xlist=[] #write evaluated x-values in a list for the use as an axis\n",
    "    \n",
    "for i in range(n): \n",
    "    #calculate successive x-values between a and b \n",
    "    #in a grid with n points.\n",
    "    data=f(x, coeff)\n",
    "    datalist.append(data)\n",
    "    xlist.append(x)\n",
    "    x+=(b-a)/(n-1) #In the next round calculate the neighboring x-value which has such a distance,\n",
    "                    #that the total amount of grid points(n) is evenly spaced inside the intervall [a,b]\n",
    "    \n",
    "plt.scatter(xlist, datalist)\n",
    "\n",
    "\n",
    "'''Now i have function generator. Use it to interpolate user requested x values, \n",
    "which can lie between calculated x values (calculated by this function, f).\n",
    "perhaps explore datalist for the neighboring x values relative to the requested x value,\n",
    "and calculate the linear polynom defined by these two x values and return the value at the requested x.'''\n"
   ]
  },
  {
   "cell_type": "code",
   "execution_count": null,
   "metadata": {},
   "outputs": [],
   "source": []
  },
  {
   "cell_type": "code",
   "execution_count": null,
   "metadata": {},
   "outputs": [],
   "source": []
  }
 ],
 "metadata": {
  "kernelspec": {
   "display_name": "Python 3",
   "language": "python",
   "name": "python3"
  },
  "language_info": {
   "codemirror_mode": {
    "name": "ipython",
    "version": 3
   },
   "file_extension": ".py",
   "mimetype": "text/x-python",
   "name": "python",
   "nbconvert_exporter": "python",
   "pygments_lexer": "ipython3",
   "version": "3.7.6"
  }
 },
 "nbformat": 4,
 "nbformat_minor": 4
}
