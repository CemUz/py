{
 "cells": [
  {
   "cell_type": "code",
   "execution_count": 61,
   "metadata": {},
   "outputs": [],
   "source": [
    "def vector_gene_simple(n,k):\n",
    "    '''Generate n vectors in a k-dimensional euclidian space\n",
    "    using array creation with np.random.random'''\n",
    "    \n",
    "    import numpy as np\n",
    "    vectors=2*np.random.random((n,k))-1\n",
    "    \n",
    "    return(vectors)"
   ]
  },
  {
   "cell_type": "code",
   "execution_count": 62,
   "metadata": {},
   "outputs": [],
   "source": [
    "def vector_gene_complicated(n, k):\n",
    "    '''Generate n vectors in a k-dimensional euclidian space\n",
    "    using an array created with np.empty and np.random.random'''\n",
    "    \n",
    "    import numpy as np\n",
    "    vectors=np.empty((n,k))\n",
    "    \n",
    "    for i in range(n):\n",
    "        \n",
    "        for j in range(k):\n",
    "            vectors[i, j] = 2*np.random.uniform()-1 \n",
    "            \n",
    "    return(vectors)    "
   ]
  },
  {
   "cell_type": "code",
   "execution_count": 63,
   "metadata": {},
   "outputs": [],
   "source": [
    "def vector_gene_complicated_normal(n, k):\n",
    "    '''Generate n vectors in a k-dimensional euclidian space\n",
    "    using an array created with np.empty and np.random.random'''\n",
    "    \n",
    "    import numpy as np\n",
    "    vectors=np.empty((n,k))\n",
    "    \n",
    "    for i in range(n):\n",
    "        \n",
    "        for j in range(k):\n",
    "            vectors[i, j] = np.random.normal(loc=0.0, scale=0.75) \n",
    "            \n",
    "    return(vectors)    "
   ]
  },
  {
   "cell_type": "code",
   "execution_count": 65,
   "metadata": {},
   "outputs": [],
   "source": [
    "def vector_gene(U):\n",
    "    '''This is a switch which upon the nature of U \n",
    "    switches between the existing three generators.'''\n",
    "    \n",
    "    if U=='simple':\n",
    "        data=vector_gene_simple(n,k)\n",
    "    elif U=='complicated':\n",
    "        data=vector_gene_complicated(n,k)\n",
    "    elif U=='normal':\n",
    "        data=vector_gene_complicated_normal(n,k)\n",
    "    \n",
    "    return(data)"
   ]
  },
  {
   "cell_type": "code",
   "execution_count": 66,
   "metadata": {},
   "outputs": [],
   "source": [
    "def innerproduct_gene(n,k,generator_type):\n",
    "    \n",
    "    vector_array=vector_gene(generator_type)\n",
    "    \n",
    "    x=vector_array.transpose()\n",
    "    #Arrange your array in such a way,\n",
    "    #that values are grouped according to the dimensions\n",
    "    \n",
    "    innerproduct=0\n",
    "\n",
    "    for i in range(k):\n",
    "    \n",
    "        directionalvalues=x[i] #slice out all directional values for one dimension\n",
    "        y=1\n",
    "    \n",
    "        for j in range(n):\n",
    "            y=y*directionalvalues[j] #multiplicate all directional values\n",
    "        \n",
    "        innerproduct=innerproduct+y\n",
    "    \n",
    "    return(innerproduct)"
   ]
  },
  {
   "cell_type": "code",
   "execution_count": 67,
   "metadata": {
    "scrolled": false
   },
   "outputs": [],
   "source": [
    "import matplotlib.pyplot as plt\n",
    "'''Set number of vectors(n), dimensions(k) and generator script (U = simple V complicated V normal).'''\n",
    "\n",
    "\n",
    "'''Perhaps set vectorlengths equal?????  make random angles instead of random coordinates instead of k dimensions you have k-1 dimensions. \n",
    "kreis vs kugel. scale vectors by multiplication with random scalar'''\n",
    "n=2\n",
    "k=2\n",
    "generator_type='simple'\n"
   ]
  },
  {
   "cell_type": "code",
   "execution_count": 68,
   "metadata": {},
   "outputs": [
    {
     "data": {
      "image/png": "[encoded data removed]",
      "text/plain": [
       "<Figure size 432x288 with 1 Axes>"
      ]
     },
     "metadata": {
      "needs_background": "light"
     },
     "output_type": "display_data"
    },
    {
     "data": {
      "image/png": "[encoded data removed]",
      "text/plain": [
       "<Figure size 720x504 with 1 Axes>"
      ]
     },
     "metadata": {
      "needs_background": "light"
     },
     "output_type": "display_data"
    },
    {
     "data": {
      "image/png": "[encoded data removed]",
      "text/plain": [
       "<Figure size 720x504 with 1 Axes>"
      ]
     },
     "metadata": {
      "needs_background": "light"
     },
     "output_type": "display_data"
    }
   ],
   "source": [
    "coslist=[]\n",
    "\n",
    "for i in range(1000):\n",
    "    \n",
    "    product=innerproduct_gene(n,k,generator_type)\n",
    "    coslist.append(product)\n",
    "    \n",
    "plt.hist(coslist,orientation='horizontal')\n",
    "#plt.plot(coslist)\n",
    "plt.show()\n",
    "\n",
    "'''perhaps define coloring better?'''\n",
    "x, y=zip(vector_array.transpose())\n",
    "\n",
    "fig = plt.figure(figsize=(10,7))\n",
    "plt.axes().set_aspect('equal')\n",
    "plt.scatter(x,y)\n",
    "plt.show()\n",
    "\n",
    "fig = plt.figure(figsize=(10,7))\n",
    "plt.axes().set_aspect('equal')\n",
    "origin=[0],[0]\n",
    "plt.quiver(*origin, x, y, color=['r','g','b'], scale=5)\n",
    "plt.show()"
   ]
  },
  {
   "cell_type": "code",
   "execution_count": 19,
   "metadata": {},
   "outputs": [],
   "source": [
    "def vector_gene_simple_angles(n,k):\n",
    "    '''Generate n vectors in polar coordinates with equal length(k-1 angles)\n",
    "    in a k-dimensions by defining their corresponding angles to the x-Axis,\n",
    "    using array creation with np.random.random.\n",
    "    Length of vectors is 1, why cos(angle) equals the inner product'''\n",
    "    \n",
    "    import numpy as np\n",
    "    angles=2*np.pi*np.random.random((n,k-1)) #generate an array with n*k-1 cells \n",
    "                                             #and fill them with random numbers from\n",
    "    product=angles \n",
    "    \n",
    "    for i in range(n):\n",
    "        product[i]=np.cos(angles[i])   \n",
    "    \n",
    "    return(product, angles)"
   ]
  },
  {
   "cell_type": "code",
   "execution_count": 20,
   "metadata": {},
   "outputs": [
    {
     "data": {
      "text/plain": [
       "(array([5., 0., 0., 1., 0., 1., 1., 0., 0., 2.]),\n",
       " array([-0.99910354, -0.81124551, -0.62338747, -0.43552944, -0.24767141,\n",
       "        -0.05981337,  0.12804466,  0.31590269,  0.50376073,  0.69161876,\n",
       "         0.87947679]),\n",
       " <a list of 10 Patch objects>)"
      ]
     },
     "execution_count": 20,
     "metadata": {},
     "output_type": "execute_result"
    },
    {
     "data": {
      "image/png": "[encoded data removed]",
      "text/plain": [
       "<Figure size 432x288 with 1 Axes>"
      ]
     },
     "metadata": {
      "needs_background": "light"
     },
     "output_type": "display_data"
    }
   ],
   "source": [
    "import matplotlib.pyplot as plt\n",
    "products=vector_gene_simple_angles(10,2)\n",
    "plt.hist(products[0])\n",
    "\n",
    "\n",
    "\n"
   ]
  },
  {
   "cell_type": "code",
   "execution_count": null,
   "metadata": {},
   "outputs": [],
   "source": []
  }
 ],
 "metadata": {
  "kernelspec": {
   "display_name": "Python 3",
   "language": "python",
   "name": "python3"
  },
  "language_info": {
   "codemirror_mode": {
    "name": "ipython",
    "version": 3
   },
   "file_extension": ".py",
   "mimetype": "text/x-python",
   "name": "python",
   "nbconvert_exporter": "python",
   "pygments_lexer": "ipython3",
   "version": "3.7.6"
  }
 },
 "nbformat": 4,
 "nbformat_minor": 4
}
