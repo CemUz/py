{
 "cells": [
  {
   "cell_type": "code",
   "execution_count": 29,
   "metadata": {},
   "outputs": [],
   "source": [
    "def vector_gene_simple(n,k):\n",
    "    '''Generate n vectors in a k-dimensional euclidian space\n",
    "    using array creation with np.random.random'''\n",
    "    \n",
    "    import numpy as np\n",
    "    vectors=2*np.random.random((n,k))-1\n",
    "    \n",
    "    return(vectors)"
   ]
  },
  {
   "cell_type": "code",
   "execution_count": 30,
   "metadata": {},
   "outputs": [],
   "source": [
    "def vector_gene_complicated(n, k):\n",
    "    '''Generate n vectors in a k-dimensional euclidian space\n",
    "    using an array created with np.empty and np.random.random'''\n",
    "    \n",
    "    import numpy as np\n",
    "    vectors=np.empty((n,k))\n",
    "    \n",
    "    for i in range(n):\n",
    "        \n",
    "        for j in range(k):\n",
    "            vectors[i, j] = 2*np.random.uniform()-1 \n",
    "            \n",
    "    return(vectors)    "
   ]
  },
  {
   "cell_type": "code",
   "execution_count": 31,
   "metadata": {},
   "outputs": [],
   "source": [
    "def vector_gene_complicated_normal(n, k):\n",
    "    '''Generate n vectors in a k-dimensional euclidian space\n",
    "    using an array created with np.empty and np.random.random'''\n",
    "    \n",
    "    import numpy as np\n",
    "    vectors=np.empty((n,k))\n",
    "    \n",
    "    for i in range(n):\n",
    "        \n",
    "        for j in range(k):\n",
    "            vectors[i, j] = np.random.normal(loc=0.0, scale=0.75) \n",
    "            \n",
    "    return(vectors)    "
   ]
  },
  {
   "cell_type": "code",
   "execution_count": 32,
   "metadata": {},
   "outputs": [],
   "source": [
    "def vector_gene(U):\n",
    "    '''This is a switch which upon the nature of U \n",
    "    switches between the existing three generators.'''\n",
    "    \n",
    "    if U=='simple':\n",
    "        data=vector_gene_simple(n,k)\n",
    "    elif U=='complicated':\n",
    "        data=vector_gene_complicated(n,k)\n",
    "    elif U=='normal':\n",
    "        data=vector_gene_complicated_normal(n,k)\n",
    "    \n",
    "    return(data)\n"
   ]
  },
  {
   "cell_type": "code",
   "execution_count": 33,
   "metadata": {},
   "outputs": [],
   "source": [
    "def innerproduct_gene(n,k,generator_type):\n",
    "    \n",
    "    vector_array=vector_gene(generator_type)\n",
    "    \n",
    "    x=vector_array.transpose()\n",
    "    #Arrange your array in such a way,\n",
    "    #that values are grouped according to the dimensions\n",
    "\n",
    "    innerproduct=0\n",
    "\n",
    "    for i in range(k):\n",
    "    \n",
    "        directionalvalues=x[i] #slice out all directional values for one dimension\n",
    "        y=1\n",
    "    \n",
    "        for j in range(n):\n",
    "            y=y*directionalvalues[j] #multiplicate all directional values\n",
    "        \n",
    "        innerproduct=innerproduct+y\n",
    "    \n",
    "    return(innerproduct)"
   ]
  },
  {
   "cell_type": "code",
   "execution_count": 35,
   "metadata": {
    "scrolled": false
   },
   "outputs": [
    {
     "data": {
      "image/png": "[encoded data removed]",
      "text/plain": [
       "<Figure size 432x288 with 1 Axes>"
      ]
     },
     "metadata": {
      "needs_background": "light"
     },
     "output_type": "display_data"
    },
    {
     "ename": "NameError",
     "evalue": "name 'vector_array' is not defined",
     "output_type": "error",
     "traceback": [
      "\u001b[1;31m---------------------------------------------------------------------------\u001b[0m",
      "\u001b[1;31mNameError\u001b[0m                                 Traceback (most recent call last)",
      "\u001b[1;32m<ipython-input-35-7dfc23d9a057>\u001b[0m in \u001b[0;36m<module>\u001b[1;34m\u001b[0m\n\u001b[0;32m     18\u001b[0m \u001b[1;33m\u001b[0m\u001b[0m\n\u001b[0;32m     19\u001b[0m \u001b[1;34m'''perhaps define coloring better?'''\u001b[0m\u001b[1;33m\u001b[0m\u001b[1;33m\u001b[0m\u001b[0m\n\u001b[1;32m---> 20\u001b[1;33m \u001b[0mx\u001b[0m\u001b[1;33m,\u001b[0m \u001b[0my\u001b[0m\u001b[1;33m=\u001b[0m\u001b[0mzip\u001b[0m\u001b[1;33m(\u001b[0m\u001b[0mvector_array\u001b[0m\u001b[1;33m.\u001b[0m\u001b[0mtranspose\u001b[0m\u001b[1;33m(\u001b[0m\u001b[1;33m)\u001b[0m\u001b[1;33m)\u001b[0m\u001b[1;33m\u001b[0m\u001b[1;33m\u001b[0m\u001b[0m\n\u001b[0m\u001b[0;32m     21\u001b[0m \u001b[1;33m\u001b[0m\u001b[0m\n\u001b[0;32m     22\u001b[0m \u001b[0mfig\u001b[0m \u001b[1;33m=\u001b[0m \u001b[0mplt\u001b[0m\u001b[1;33m.\u001b[0m\u001b[0mfigure\u001b[0m\u001b[1;33m(\u001b[0m\u001b[0mfigsize\u001b[0m\u001b[1;33m=\u001b[0m\u001b[1;33m(\u001b[0m\u001b[1;36m10\u001b[0m\u001b[1;33m,\u001b[0m\u001b[1;36m7\u001b[0m\u001b[1;33m)\u001b[0m\u001b[1;33m)\u001b[0m\u001b[1;33m\u001b[0m\u001b[1;33m\u001b[0m\u001b[0m\n",
      "\u001b[1;31mNameError\u001b[0m: name 'vector_array' is not defined"
     ]
    }
   ],
   "source": [
    "import matplotlib.pyplot as plt\n",
    "'''Set number of vectors(n), dimensions(k) and generator script (U = simple V complicated V normal).'''\n",
    "\n",
    "\n",
    "'''Perhaps set vectorlengths equal?????  make random angles instead of random coordinates instead of k dimensions you have k-1 dimensions. \n",
    "kreis vs kugel. scale vectors by multiplication with random scalar'''\n",
    "n=2\n",
    "k=2\n",
    "generator_type='simple'\n",
    "\n",
    "coslist=[]\n",
    "\n",
    "for i in range(1000):\n",
    "    \n",
    "    product=innerproduct_gene(n,k,generator_type)\n",
    "    coslist.append(product)\n",
    "    \n",
    "plt.hist(coslist,orientation='horizontal')\n",
    "#plt.plot(coslist)\n",
    "plt.show()\n",
    "\n",
    "'''perhaps define coloring better?'''\n",
    "x, y=zip(vector_array.transpose())\n",
    "\n",
    "fig = plt.figure(figsize=(10,7))\n",
    "plt.axes().set_aspect('equal')\n",
    "plt.scatter(x,y)\n",
    "plt.show()\n",
    "\n",
    "fig = plt.figure(figsize=(10,7))\n",
    "plt.axes().set_aspect('equal')\n",
    "origin=[0],[0]\n",
    "plt.quiver(*origin, x, y, color=['r','g','b'], scale=5)\n",
    "plt.show()"
   ]
  },
  {
   "cell_type": "code",
   "execution_count": null,
   "metadata": {},
   "outputs": [],
   "source": []
  },
  {
   "cell_type": "code",
   "execution_count": null,
   "metadata": {},
   "outputs": [],
   "source": []
  }
 ],
 "metadata": {
  "kernelspec": {
   "display_name": "Python 3",
   "language": "python",
   "name": "python3"
  },
  "language_info": {
   "codemirror_mode": {
    "name": "ipython",
    "version": 3
   },
   "file_extension": ".py",
   "mimetype": "text/x-python",
   "name": "python",
   "nbconvert_exporter": "python",
   "pygments_lexer": "ipython3",
   "version": "3.7.6"
  }
 },
 "nbformat": 4,
 "nbformat_minor": 4
}
