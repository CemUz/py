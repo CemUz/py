{
 "cells": [
  {
   "cell_type": "code",
   "execution_count": 1,
   "metadata": {},
   "outputs": [],
   "source": [
    "def throwlist_generator(numberflips):\n",
    "    \n",
    "    result=[]\n",
    "    \n",
    "    for i in range(numberflips):\n",
    "        \n",
    "        coin=np.random.uniform(0,1)\n",
    "        \n",
    "        if coin<0.5:\n",
    "            result.append('head')\n",
    "        if coin>0.5:\n",
    "            result.append('tails')\n",
    "    \n",
    "    return(result)\n",
    "\n",
    "\n",
    "def consecutive_counter(numberflips):\n",
    "    \n",
    "    result=throwlist_generator(numberflips)\n",
    "    consecutive=1\n",
    "    consecutivelist=[]\n",
    "    \n",
    "    for i in range(numberflips-1):  \n",
    "        \n",
    "        if result[i]==result[i+1]:\n",
    "            consecutive=consecutive+1\n",
    "        else:\n",
    "            consecutivelist.append(int(consecutive))\n",
    "            consecutive=1\n",
    "            \n",
    "    if consecutive!=1:\n",
    "        consecutivelist.append(int(consecutive))\n",
    "    \n",
    "    return(consecutivelist)"
   ]
  },
  {
   "cell_type": "code",
   "execution_count": 2,
   "metadata": {},
   "outputs": [],
   "source": [
    "'''optimised by integration of throws and analysis of successive outcomes.\n",
    "This makes a list of outcomes obsolete and only the number of successions is generated.'''\n",
    "\n",
    "def consecutive_outcome_generator(numberflips):\n",
    "    \n",
    "    outcomelist=[]\n",
    "    result=[]\n",
    "    H=0\n",
    "    T=0\n",
    "    \n",
    "    for i in range(numberflips):\n",
    "        \n",
    "        coin=np.random.uniform(0,1)\n",
    "        \n",
    "        if coin>0.5:\n",
    "            if T!=0:\n",
    "                result.append(T)\n",
    "                T=0\n",
    "            H=H+1\n",
    "            \n",
    "        if coin<0.5:\n",
    "            if H!=0:\n",
    "                result.append(H)\n",
    "                H=0\n",
    "            T=T+1\n",
    "            \n",
    "    if H!=0:\n",
    "        result.append(H)\n",
    "    if T!=0:\n",
    "        result.append(T)\n",
    "        \n",
    "    return(result)"
   ]
  },
  {
   "cell_type": "code",
   "execution_count": 25,
   "metadata": {
    "scrolled": false
   },
   "outputs": [
    {
     "data": {
      "image/png": "[encoded data removed]",
      "text/plain": [
       "<Figure size 1296x576 with 1 Axes>"
      ]
     },
     "metadata": {
      "needs_background": "light"
     },
     "output_type": "display_data"
    }
   ],
   "source": [
    "import numpy as np\n",
    "import matplotlib.pyplot as plt\n",
    "\n",
    "numberflips=10\n",
    "\n",
    "data=consecutive_outcome_generator(numberflips)\n",
    "#data=consecutive_counter(numberflips)\n",
    "\n",
    "plt.figure(figsize=[18,8])\n",
    "\n",
    "bins=[x+n for n in range(np.min(data),np.max(data)+1) for x in [0, 1]]+[np.max(data)+1]\n",
    "ticks=plt.xticks(range(np.min(data),np.max(data)+1))\n",
    "\n",
    "plt.hist(data, bins, #range=[1,10],\n",
    "         histtype='bar', align='left',\n",
    "         orientation='vertical', log=True, color='skyblue', ec='black', lw=1)\n",
    "plt.show()"
   ]
  },
  {
   "cell_type": "code",
   "execution_count": 59,
   "metadata": {
    "scrolled": false
   },
   "outputs": [
    {
     "name": "stdout",
     "output_type": "stream",
     "text": [
      "785 ns ± 62.4 ns per loop (mean ± std. dev. of 7 runs, 1000000 loops each)\n",
      "1.18 µs ± 103 ns per loop (mean ± std. dev. of 7 runs, 1000000 loops each)\n",
      "0\n",
      "0.6674343880000291\n",
      "2.54 s ± 108 ms per loop (mean ± std. dev. of 7 runs, 1 loop each)\n",
      "2.73 s ± 139 ms per loop (mean ± std. dev. of 7 runs, 1 loop each)\n",
      "500000\n",
      "0.9316913723911158\n",
      "5.02 s ± 54.8 ms per loop (mean ± std. dev. of 7 runs, 1 loop each)\n",
      "5.42 s ± 257 ms per loop (mean ± std. dev. of 7 runs, 1 loop each)\n",
      "1000000\n",
      "0.9275022859729448\n",
      "7.54 s ± 75.4 ms per loop (mean ± std. dev. of 7 runs, 1 loop each)\n",
      "8.02 s ± 559 ms per loop (mean ± std. dev. of 7 runs, 1 loop each)\n",
      "1500000\n",
      "0.9406207623401249\n",
      "9.86 s ± 291 ms per loop (mean ± std. dev. of 7 runs, 1 loop each)\n",
      "10.9 s ± 1 s per loop (mean ± std. dev. of 7 runs, 1 loop each)\n",
      "2000000\n",
      "0.9067674272981892\n",
      "13.5 s ± 1.4 s per loop (mean ± std. dev. of 7 runs, 1 loop each)\n",
      "12.8 s ± 570 ms per loop (mean ± std. dev. of 7 runs, 1 loop each)\n",
      "2500000\n",
      "1.052401098166979\n",
      "14.5 s ± 288 ms per loop (mean ± std. dev. of 7 runs, 1 loop each)\n",
      "15 s ± 111 ms per loop (mean ± std. dev. of 7 runs, 1 loop each)\n",
      "3000000\n",
      "0.9658171835040694\n",
      "16.9 s ± 706 ms per loop (mean ± std. dev. of 7 runs, 1 loop each)\n",
      "17.5 s ± 212 ms per loop (mean ± std. dev. of 7 runs, 1 loop each)\n",
      "3500000\n",
      "0.9666289346238733\n",
      "19 s ± 135 ms per loop (mean ± std. dev. of 7 runs, 1 loop each)\n",
      "21.7 s ± 1.76 s per loop (mean ± std. dev. of 7 runs, 1 loop each)\n",
      "4000000\n",
      "0.8779959021943783\n",
      "22.3 s ± 1.06 s per loop (mean ± std. dev. of 7 runs, 1 loop each)\n",
      "22.5 s ± 221 ms per loop (mean ± std. dev. of 7 runs, 1 loop each)\n",
      "4500000\n",
      "0.9924480331684449\n"
     ]
    },
    {
     "data": {
      "image/png": "[encoded data removed]",
      "text/plain": [
       "<Figure size 432x288 with 1 Axes>"
      ]
     },
     "metadata": {
      "needs_background": "light"
     },
     "output_type": "display_data"
    }
   ],
   "source": [
    "'''This evaluates the running times of both scripts'''\n",
    "import statistics\n",
    "import matplotlib.pyplot as plt\n",
    "\n",
    "timelist=[]\n",
    "timings1list=[]\n",
    "timings2list=[]\n",
    "\n",
    "numberflips=0\n",
    "\n",
    "for i in range(10):\n",
    "    \n",
    "    t1=%timeit -o consecutive_outcome_generator(numberflips)\n",
    "    t2=%timeit -o data=consecutive_counter(numberflips)\n",
    "\n",
    "    timings1=statistics.mean(t1.all_runs)\n",
    "    timings2=statistics.mean(t2.all_runs)\n",
    "    \n",
    "    timings1list.append(timings1)\n",
    "    timings2list.append(timings2)\n",
    "    \n",
    "    ratio=timings1/timings2\n",
    "    \n",
    "    timelist.append(ratio)\n",
    "    \n",
    "    print(numberflips)\n",
    "    print(ratio)\n",
    "    \n",
    "    numberflips=numberflips+500000\n",
    "    \n",
    "plt.plot(timelist)\n",
    "plt.plot(timings1list)\n",
    "plt.plot(timings2list)\n",
    "plt.show()\n"
   ]
  },
  {
   "cell_type": "code",
   "execution_count": 8,
   "metadata": {},
   "outputs": [],
   "source": [
    "'''Use more two coins! For this generate the outcome for two coins. \n",
    "MAYHAPS with only one list and use neighboring throws.'''\n",
    "def dual_outcome_generator(numberflips):\n",
    "    \n",
    "    list1=[]\n",
    "    list2=[]\n",
    "    \n",
    "    for i in range(numberflips):\n",
    "        \n",
    "        coin1=np.random.uniform(0,1)        \n",
    "        if coin1<0.5:\n",
    "            list1.append('head')\n",
    "        if coin1>0.5:\n",
    "            list1.append('tails')\n",
    "        \n",
    "        coin2=np.random.uniform(0,1)\n",
    "        if coin2<0.5:\n",
    "            list2.append('head')\n",
    "        if coin2>0.5:\n",
    "            list2.append('tails')\n",
    "    \n",
    "    return(list1, list2)"
   ]
  }
 ],
 "metadata": {
  "kernelspec": {
   "display_name": "Python 3",
   "language": "python",
   "name": "python3"
  },
  "language_info": {
   "codemirror_mode": {
    "name": "ipython",
    "version": 3
   },
   "file_extension": ".py",
   "mimetype": "text/x-python",
   "name": "python",
   "nbconvert_exporter": "python",
   "pygments_lexer": "ipython3",
   "version": "3.7.6"
  }
 },
 "nbformat": 4,
 "nbformat_minor": 4
}
