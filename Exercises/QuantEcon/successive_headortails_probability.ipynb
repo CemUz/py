{
 "cells": [
  {
   "cell_type": "code",
   "execution_count": 1,
   "metadata": {},
   "outputs": [],
   "source": [
    "def outcome_generator(numberflips):\n",
    "    \n",
    "    result=[]\n",
    "    \n",
    "    for i in range(numberflips):\n",
    "        \n",
    "        coin=np.random.uniform(0,1)\n",
    "        \n",
    "        if coin<0.5:\n",
    "            result.append('head')\n",
    "        if coin>0.5:\n",
    "            result.append('tails')\n",
    "    \n",
    "    return(result)"
   ]
  },
  {
   "cell_type": "code",
   "execution_count": 2,
   "metadata": {},
   "outputs": [],
   "source": [
    "def consecutive_counter(numberflips):\n",
    "    \n",
    "    result=outcome_generator(numberflips)\n",
    "    consecutive=1\n",
    "    consecutivelist=[]\n",
    "    \n",
    "    for i in range(numberflips-1):  \n",
    "        \n",
    "        if result[i]==result[i+1]:\n",
    "            consecutive=consecutive+1\n",
    "        else:\n",
    "            consecutivelist.append(int(consecutive))\n",
    "            consecutive=1\n",
    "            \n",
    "    if consecutive!=1:\n",
    "        consecutivelist.append(int(consecutive))\n",
    "    \n",
    "    return(consecutivelist)"
   ]
  },
  {
   "cell_type": "code",
   "execution_count": 13,
   "metadata": {},
   "outputs": [
    {
     "name": "stdout",
     "output_type": "stream",
     "text": [
      "1\n"
     ]
    },
    {
     "data": {
      "image/png": "[encoded data removed]",
      "text/plain": [
       "<Figure size 432x288 with 1 Axes>"
      ]
     },
     "metadata": {
      "needs_background": "light"
     },
     "output_type": "display_data"
    }
   ],
   "source": [
    "import numpy as np\n",
    "import matplotlib.pyplot as plt\n",
    "\n",
    "numberflips=1000\n",
    "data=consecutive_counter(numberflips)\n",
    "\n",
    "bins = [x+n for n in range(np.min(data),np.max(data)+1) for x in [0, 1]]+[np.max(data)+1]\n",
    "\n",
    "plt.hist(data, bins, #range=[1,10],\n",
    "         histtype='bar', align='left',\n",
    "         orientation='vertical', log=True, color='skyblue', ec='black', lw=1)\n",
    "print(np.min(data))\n",
    "ticks=plt.xticks(range(np.min(data),np.max(data)+1))\n",
    "\n"
   ]
  },
  {
   "cell_type": "code",
   "execution_count": 25,
   "metadata": {},
   "outputs": [],
   "source": [
    "'''Use more two coins! For this generate the outcome for two coins. \n",
    "MAYHAPS with only one list and use neighboring throws.'''\n",
    "def dual_outcome_generator(numberflips):\n",
    "    \n",
    "    list1=[]\n",
    "    list2=[]\n",
    "    \n",
    "    for i in range(numberflips):\n",
    "        \n",
    "        coin1=np.random.uniform(0,1)        \n",
    "        if coin1<0.5:\n",
    "            list1.append('head')\n",
    "        if coin1>0.5:\n",
    "            list1.append('tails')\n",
    "        \n",
    "        coin2=np.random.uniform(0,1)\n",
    "        if coin2<0.5:\n",
    "            list2.append('head')\n",
    "        if coin2>0.5:\n",
    "            list2.append('tails')\n",
    "    \n",
    "    return(list1, list2)"
   ]
  },
  {
   "cell_type": "code",
   "execution_count": 102,
   "metadata": {},
   "outputs": [],
   "source": [
    "def outcome_generator(numberflips):\n",
    "    \n",
    "    result=[]\n",
    "    \n",
    "    for i in range(numberflips):\n",
    "        \n",
    "        coin=np.random.uniform(0,1)\n",
    "        \n",
    "        if coin<0.5:\n",
    "            result.append('head')\n",
    "        if coin>0.5:\n",
    "            result.append('tails')\n",
    "    \n",
    "    return(result)"
   ]
  },
  {
   "cell_type": "code",
   "execution_count": 103,
   "metadata": {},
   "outputs": [
    {
     "name": "stdout",
     "output_type": "stream",
     "text": [
      "[1, 2, 1, 1, 4, 1, 2, 1]\n",
      "['tails', 'head', 'head', 'tails', 'tails', 'tails', 'head', 'tails', 'head', 'head']\n",
      "['tails', 'tails', 'tails', 'tails', 'tails', 'tails', 'tails', 'tails', 'tails', 'tails']\n"
     ]
    }
   ],
   "source": []
  },
  {
   "cell_type": "code",
   "execution_count": null,
   "metadata": {},
   "outputs": [],
   "source": []
  },
  {
   "cell_type": "code",
   "execution_count": null,
   "metadata": {},
   "outputs": [],
   "source": []
  }
 ],
 "metadata": {
  "kernelspec": {
   "display_name": "Python 3",
   "language": "python",
   "name": "python3"
  },
  "language_info": {
   "codemirror_mode": {
    "name": "ipython",
    "version": 3
   },
   "file_extension": ".py",
   "mimetype": "text/x-python",
   "name": "python",
   "nbconvert_exporter": "python",
   "pygments_lexer": "ipython3",
   "version": "3.7.6"
  }
 },
 "nbformat": 4,
 "nbformat_minor": 4
}
