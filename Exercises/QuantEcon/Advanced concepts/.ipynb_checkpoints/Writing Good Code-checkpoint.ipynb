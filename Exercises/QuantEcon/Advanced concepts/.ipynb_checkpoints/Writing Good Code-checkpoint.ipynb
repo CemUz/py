{
 "cells": [
  {
   "cell_type": "code",
   "execution_count": 63,
   "metadata": {
    "scrolled": false
   },
   "outputs": [
    {
     "name": "stdout",
     "output_type": "stream",
     "text": [
      "     a\n",
      "0  0.1\n",
      "a    0.1\n",
      "b    1.0\n",
      "d    1.0\n",
      "g    1.0\n",
      "Name: 0, dtype: float64\n"
     ]
    }
   ],
   "source": [
    "import numpy as np\n",
    "import matplotlib.pyplot as plt\n",
    "import pandas as pd\n",
    "import scipy.optimize\n",
    "\n",
    "class Market:\n",
    "    \n",
    "    def __init__(self, p, a=0.1, b=1, d=1, g=1):\n",
    "        self.a, self.b, self.d, self.g, self.p = a, b, d, g, p \n",
    "        \n",
    "    def supply(self):\n",
    "        a, b, p = self.a, self.b, self.p\n",
    "        return np.exp(a*p) - b\n",
    "    \n",
    "    def demand(self):\n",
    "        return g*(p**(-d))\n",
    "    \n",
    "    def equillibrium(self):\n",
    "        return self.supply()-self.demand()\n",
    "\n",
    "parameters = {'a' : [0.1, 0.2, 0.3, 0.4],\n",
    "              'b' : [  1,   1,   1,   1],\n",
    "              'd' : [  1,   1,   1,   1],\n",
    "              'g' : [  1,   1,   1,   1]}\n",
    "\n",
    "df = pd.DataFrame(parameters)\n",
    "print(df.iloc[0+i:1+i,0:1])\n",
    "series = pd.Series(df.iloc[0])\n",
    "\n",
    "    \n",
    "print(series)\n",
    "\n",
    "p = np.linspace(0, 10, 100)\n",
    "\n",
    "m = Market(p)\n",
    "\n",
    "#fig, ax = plt.subplots(3,4,figsize=(7,30))\n",
    "\n",
    "#ax.plot(m.supply())\n",
    "#ax.plot(m.demand())\n",
    "#ax.plot(m.equillibrium())\n"
   ]
  },
  {
   "cell_type": "code",
   "execution_count": null,
   "metadata": {},
   "outputs": [],
   "source": []
  }
 ],
 "metadata": {
  "kernelspec": {
   "display_name": "Python 3",
   "language": "python",
   "name": "python3"
  },
  "language_info": {
   "codemirror_mode": {
    "name": "ipython",
    "version": 3
   },
   "file_extension": ".py",
   "mimetype": "text/x-python",
   "name": "python",
   "nbconvert_exporter": "python",
   "pygments_lexer": "ipython3",
   "version": "3.7.7"
  }
 },
 "nbformat": 4,
 "nbformat_minor": 4
}
