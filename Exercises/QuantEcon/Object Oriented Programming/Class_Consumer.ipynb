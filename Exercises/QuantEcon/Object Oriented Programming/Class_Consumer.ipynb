{
 "cells": [
  {
   "cell_type": "code",
   "execution_count": 10,
   "metadata": {},
   "outputs": [],
   "source": [
    "class consumer:\n",
    "    \n",
    "    def __init__(self, w):\n",
    "        \"Initialise consumer with wealth w\"\n",
    "        self.wealth = w\n",
    "    \n",
    "    def earn(self, y):\n",
    "        \"The earnings y of the consumer\"\n",
    "        self.wealth += y\n",
    "        \n",
    "    def spend(self, x):\n",
    "        \"The spendings x of the consumer. Only accepted if the spending is not higher than its wealth\"\n",
    "        new_wealth = self.wealth-x\n",
    "        if new_wealth < 0:\n",
    "            print(\"insufficient funds\")\n",
    "        else:\n",
    "            self.wealth = new_wealth"
   ]
  },
  {
   "cell_type": "code",
   "execution_count": 17,
   "metadata": {},
   "outputs": [
    {
     "name": "stdout",
     "output_type": "stream",
     "text": [
      "10\n",
      "0\n",
      "<class '__main__.consumer'>\n",
      "<class 'list'>\n"
     ]
    }
   ],
   "source": [
    "c1 = consumer(10) #Create consumer c1 with 10 wealth\n",
    "print(c1.wealth) #show wealth of c1\n",
    "c1.spend(10) #call spend method to decrease wealth by 5\n",
    "print(c1.wealth) #Again, show c1 wealth\n",
    "\n",
    "print(type(c1))"
   ]
  },
  {
   "cell_type": "code",
   "execution_count": null,
   "metadata": {},
   "outputs": [],
   "source": []
  }
 ],
 "metadata": {
  "kernelspec": {
   "display_name": "Python 3",
   "language": "python",
   "name": "python3"
  },
  "language_info": {
   "codemirror_mode": {
    "name": "ipython",
    "version": 3
   },
   "file_extension": ".py",
   "mimetype": "text/x-python",
   "name": "python",
   "nbconvert_exporter": "python",
   "pygments_lexer": "ipython3",
   "version": "3.7.6"
  }
 },
 "nbformat": 4,
 "nbformat_minor": 4
}
