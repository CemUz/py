{
 "cells": [
  {
   "cell_type": "code",
   "execution_count": 1,
   "metadata": {},
   "outputs": [],
   "source": [
    "class ecdf:\n",
    "    \n",
    "    def __init__(self, observations): #initialise ecdf object with sample s which contains a set of observations\n",
    "        self.observations = observations\n",
    "        \n",
    "    def __call__(self, x): #call ecdf value-calculation at x\n",
    "        \n",
    "        self.x = x\n",
    "        functionvalue = (1/len(self.observations)) * (sum(i <= self.x for i in self.observations))\n",
    "        \n",
    "        return functionvalue"
   ]
  },
  {
   "cell_type": "code",
   "execution_count": 25,
   "metadata": {},
   "outputs": [
    {
     "data": {
      "text/plain": [
       "<matplotlib.collections.PathCollection at 0x1d3fc0a7808>"
      ]
     },
     "execution_count": 25,
     "metadata": {},
     "output_type": "execute_result"
    },
    {
     "data": {
      "image/png": "[encoded data removed]",
      "text/plain": [
       "<Figure size 432x288 with 1 Axes>"
      ]
     },
     "metadata": {
      "needs_background": "light"
     },
     "output_type": "display_data"
    }
   ],
   "source": [
    "import numpy as np\n",
    "import matplotlib.pyplot as plt\n",
    "\n",
    "trials=50 #how many picks from distribution?\n",
    "resolution=100 #Number of calculations between every natural number (minimum 1)\n",
    "mean=0\n",
    "a = mean - 4\n",
    "b = mean + 4\n",
    "\n",
    "sample=[np.random.normal(loc=mean) for i in range(trials)]\n",
    "#sample through a distribution\n",
    "#and pick a trial number of values\n",
    "\n",
    "f_n = ecdf(sample)\n",
    "\n",
    "ecdfvalues = np.empty([2, ((b-a)*resolution)+1])\n",
    "\n",
    "for i in range(a*resolution, (b*resolution)+1):\n",
    "    ecdfvalues[0][i-(a*resolution)] = i/resolution\n",
    "    ecdfvalues[1][i-(a*resolution)] = f_n(i/resolution)\n",
    "\n",
    "plt.scatter(ecdfvalues[0], ecdfvalues[1], alpha=0.1)"
   ]
  },
  {
   "cell_type": "code",
   "execution_count": null,
   "metadata": {},
   "outputs": [],
   "source": []
  },
  {
   "cell_type": "code",
   "execution_count": null,
   "metadata": {},
   "outputs": [],
   "source": []
  }
 ],
 "metadata": {
  "kernelspec": {
   "display_name": "Python 3",
   "language": "python",
   "name": "python3"
  },
  "language_info": {
   "codemirror_mode": {
    "name": "ipython",
    "version": 3
   },
   "file_extension": ".py",
   "mimetype": "text/x-python",
   "name": "python",
   "nbconvert_exporter": "python",
   "pygments_lexer": "ipython3",
   "version": "3.7.6"
  }
 },
 "nbformat": 4,
 "nbformat_minor": 4
}
