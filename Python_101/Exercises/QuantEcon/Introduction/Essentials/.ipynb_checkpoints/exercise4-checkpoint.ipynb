{
 "cells": [
  {
   "cell_type": "code",
   "execution_count": 18,
   "metadata": {},
   "outputs": [
    {
     "name": "stdout",
     "output_type": "stream",
     "text": [
      "True\n"
     ]
    }
   ],
   "source": [
    "seq_a='ATGATG'\n",
    "seq_b='ATGTGTGTGTGTG'\n",
    "\n",
    "def sequence_comparator(seq_a, seq_b):\n",
    "    for i in range(len(seq_b)):\n",
    "    \n",
    "        if seq_b[i] not in seq_a:\n",
    "            c=False\n",
    "            break\n",
    "        \n",
    "        else:\n",
    "            c=True\n",
    "        \n",
    "    return(c)\n",
    "        \n",
    "state=sequence_comparator(seq_a, seq_b)\n",
    "print(state)\n",
    "\n",
    "        "
   ]
  },
  {
   "cell_type": "code",
   "execution_count": null,
   "metadata": {},
   "outputs": [],
   "source": []
  },
  {
   "cell_type": "code",
   "execution_count": null,
   "metadata": {},
   "outputs": [],
   "source": []
  }
 ],
 "metadata": {
  "kernelspec": {
   "display_name": "Python 3",
   "language": "python",
   "name": "python3"
  },
  "language_info": {
   "codemirror_mode": {
    "name": "ipython",
    "version": 3
   },
   "file_extension": ".py",
   "mimetype": "text/x-python",
   "name": "python",
   "nbconvert_exporter": "python",
   "pygments_lexer": "ipython3",
   "version": "3.7.6"
  }
 },
 "nbformat": 4,
 "nbformat_minor": 4
}
