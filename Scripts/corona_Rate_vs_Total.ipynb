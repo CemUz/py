{
 "cells": [
  {
   "cell_type": "code",
   "execution_count": null,
   "metadata": {},
   "outputs": [],
   "source": [
    "import matplotlib.pyplot as plt\n",
    "import numpy as np\n",
    "from scipy.stats import linregress\n",
    "import pandas as pd\n",
    "\n",
    "url = 'https://raw.githubusercontent.com/CSSEGISandData/COVID-19/master/csse_covid_19_data/csse_covid_19_time_series/time_series_covid19_confirmed_global.csv'\n",
    "\n",
    "data = pd.read_csv(url, index_col=1, parse_dates=True, dtype='int')\n",
    "data = data.transpose()\n",
    "data = data['Germany']\n",
    "data = data[40:]\n",
    "\n",
    "total = [48,79,130,159,196,262,482,670,799,1040,1176,1457,1908,2078,3675,4585,5795,7272,9257,\n",
    "         12327,15320,19848,22213,24873,29056,32986,37323,43938,50871,57695,62095,66885,71808,\n",
    "         77872,84794,91159,96092,100123,103374,107663,113296,118181,122171,124908,127854,130072,\n",
    "         131359,134753,137698,141397,143342,145184,147065,148291,150648,153129,154999,156513,157770,\n",
    "         158758]\n",
    "\n",
    "data['logs'] = np.log(data)\n",
    "growth=[total[i+1]-total[i] for i in range(len(total)-1)]\n",
    "\n",
    "total = np.asarray(total)\n",
    "growth = np.asarray(growth)\n",
    "\n",
    "x = np.log(total)\n",
    "y = np.log(growth)\n",
    "\n",
    "\n",
    "gradient, intercept, r_value, p_value, std_err = linregress(x[:28],y[:28])\n",
    "\n",
    "fig, ax = plt.subplots(figsize=(10,5))\n",
    "\n",
    "ax.set_xlabel('log(Total cases)')\n",
    "ax.set_ylabel('log(Growth)')\n",
    "\n",
    "ax.scatter(x[:len(x)-1], y, alpha=0.5, s=50)\n",
    "ax.plot(x[:len(x)-1], y)\n",
    "ax.plot((x[:28]),(y[:28]))\n",
    "\n",
    "x = np.linspace(x[0], x[28], 2)\n",
    "ax.plot((x), gradient*(x)+intercept,'m')\n",
    "\n",
    "intercept\n",
    "gradient\n",
    "\n",
    "data"
   ]
  },
  {
   "cell_type": "code",
   "execution_count": 1,
   "metadata": {},
   "outputs": [
    {
     "data": {
      "text/plain": [
       "48"
      ]
     },
     "execution_count": 1,
     "metadata": {},
     "output_type": "execute_result"
    }
   ],
   "source": [
    "import pandas as pd\n",
    "\n",
    "url = 'https://raw.githubusercontent.com/CSSEGISandData/COVID-19/master/csse_covid_19_data/csse_covid_19_time_series/time_series_covid19_confirmed_global.csv'\n",
    "\n",
    "data = pd.read_csv(url, index_col=1, parse_dates=True)\n",
    "data = data.transpose()\n",
    "\n",
    "data = data['Germany']\n",
    "data = data[40]\n",
    "data\n"
   ]
  },
  {
   "cell_type": "code",
   "execution_count": null,
   "metadata": {},
   "outputs": [],
   "source": []
  }
 ],
 "metadata": {
  "kernelspec": {
   "display_name": "Python 3",
   "language": "python",
   "name": "python3"
  },
  "language_info": {
   "codemirror_mode": {
    "name": "ipython",
    "version": 3
   },
   "file_extension": ".py",
   "mimetype": "text/x-python",
   "name": "python",
   "nbconvert_exporter": "python",
   "pygments_lexer": "ipython3",
   "version": "3.7.7"
  }
 },
 "nbformat": 4,
 "nbformat_minor": 4
}
