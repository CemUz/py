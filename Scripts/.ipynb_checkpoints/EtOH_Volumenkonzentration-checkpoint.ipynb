{
 "cells": [
  {
   "cell_type": "code",
   "execution_count": 1,
   "metadata": {},
   "outputs": [],
   "source": [
    "import numpy as np\n",
    "import matplotlib.pyplot as plt\n",
    "%matplotlib inline"
   ]
  },
  {
   "cell_type": "code",
   "execution_count": 22,
   "metadata": {},
   "outputs": [
    {
     "name": "stdout",
     "output_type": "stream",
     "text": [
      "mean:8.477999999999998+-0.42389999999999994\n",
      "8.901899999999998\n",
      "8.054099999999998\n"
     ]
    },
    {
     "data": {
      "text/plain": [
       "<matplotlib.collections.PathCollection at 0x2216c80bbc8>"
      ]
     },
     "execution_count": 22,
     "metadata": {},
     "output_type": "execute_result"
    },
    {
     "data": {
      "image/png": "[encoded data removed]",
      "text/plain": [
       "<Figure size 432x288 with 1 Axes>"
      ]
     },
     "metadata": {
      "needs_background": "light"
     },
     "output_type": "display_data"
    }
   ],
   "source": [
    "volumes=[8.64,8.35,8.34,8.43,8.80,8.35,8.40,8.38,8.79,8.3]\n",
    "mean=np.mean(volumes)\n",
    "fehler=0.05*mean\n",
    "print(f'mean:{mean}+-{fehler}')\n",
    "print(mean+fehler)\n",
    "print(mean-fehler)\n",
    "volumes.sort()\n",
    "plt.scatter(mean, 5)\n",
    "plt.scatter([index for volume, index in enumerate(volumes)],[volume for volume,index in enumerate(volumes)])"
   ]
  },
  {
   "cell_type": "code",
   "execution_count": null,
   "metadata": {},
   "outputs": [],
   "source": []
  }
 ],
 "metadata": {
  "kernelspec": {
   "display_name": "Python 3",
   "language": "python",
   "name": "python3"
  },
  "language_info": {
   "codemirror_mode": {
    "name": "ipython",
    "version": 3
   },
   "file_extension": ".py",
   "mimetype": "text/x-python",
   "name": "python",
   "nbconvert_exporter": "python",
   "pygments_lexer": "ipython3",
   "version": "3.7.6"
  }
 },
 "nbformat": 4,
 "nbformat_minor": 4
}
