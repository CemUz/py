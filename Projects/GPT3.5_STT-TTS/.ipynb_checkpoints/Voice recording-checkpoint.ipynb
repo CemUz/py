{
 "cells": [
  {
   "cell_type": "code",
   "execution_count": 3,
   "id": "8ca95471",
   "metadata": {
    "scrolled": true
   },
   "outputs": [
    {
     "name": "stdout",
     "output_type": "stream",
     "text": [
      "Recording...\n",
      "Finished recording.\n",
      "{\n",
      "  \"text\": \"Hello, this is a test file testing if the current script actually is only appending the data to the frames list when only speech is present, omitting any breaks in between. Let's hope for the best.\"\n",
      "}\n"
     ]
    }
   ],
   "source": [
    "import pyaudio\n",
    "import wave\n",
    "import openai\n",
    "import numpy as np\n",
    "import webrtcvad\n",
    "\n",
    "def recording():\n",
    "    CHUNK = 160\n",
    "    FORMAT = pyaudio.paInt16\n",
    "    CHANNELS = 2\n",
    "    RATE = 16000\n",
    "    SILENCE_LIMIT = 2  # Time of silence needed to stop recording (seconds)\n",
    "    WAVE_OUTPUT_FILENAME = \"input.wav\"\n",
    "\n",
    "    vad = webrtcvad.Vad()\n",
    "    vad.set_mode(3)\n",
    "    \n",
    "    audio = pyaudio.PyAudio()\n",
    "\n",
    "    stream = audio.open(format=FORMAT, channels=CHANNELS,\n",
    "                    rate=RATE, input=True,\n",
    "                    frames_per_buffer=CHUNK)\n",
    "\n",
    "    print(\"Recording...\")\n",
    "\n",
    "    frames = []\n",
    "    silent_count = 0\n",
    "    \n",
    "    while True:\n",
    "        data = stream.read(CHUNK)\n",
    "        \n",
    "        \n",
    "        # Check for speech\n",
    "        decoded_data = np.frombuffer(data, dtype=np.int16)\n",
    "        audio_level = np.max(decoded_data)\n",
    "\n",
    "        if  vad.is_speech(data, RATE):\n",
    "            silent_count = 0\n",
    "            frames.append(data)\n",
    "        else:\n",
    "            silent_count += 1\n",
    "            \n",
    "        # Check if there's been enough silence to stop recording\n",
    "        if silent_count > SILENCE_LIMIT * RATE / CHUNK:\n",
    "            break\n",
    "\n",
    "    print(\"Finished recording.\")\n",
    "\n",
    "    stream.stop_stream()\n",
    "    stream.close()\n",
    "    audio.terminate()\n",
    " \n",
    "    waveFile = wave.open(WAVE_OUTPUT_FILENAME, 'wb')\n",
    "    waveFile.setnchannels(CHANNELS)\n",
    "    waveFile.setsampwidth(audio.get_sample_size(FORMAT))\n",
    "    waveFile.setframerate(RATE)\n",
    "    waveFile.writeframes(b''.join(frames))\n",
    "    waveFile.close()\n",
    "\n",
    "recording()\n",
    "\n",
    "audio_file= open(\"input.wav\", \"rb\")\n",
    "transcript = openai.Audio.transcribe(\"whisper-1\", audio_file)\n",
    "print(transcript)"
   ]
  },
  {
   "cell_type": "code",
   "execution_count": 2,
   "id": "a717f8c1",
   "metadata": {},
   "outputs": [
    {
     "name": "stdout",
     "output_type": "stream",
     "text": [
      "Recording...\n",
      "Finished recording.\n"
     ]
    }
   ],
   "source": [
    "import pyaudio\n",
    "import wave\n",
    "import openai\n",
    "import numpy as np\n",
    "\n",
    "def recording():\n",
    "    CHUNK = 1024\n",
    "    FORMAT = pyaudio.paInt16\n",
    "    CHANNELS = 2\n",
    "    RATE = 44100\n",
    "    THRESHOLD = 1000  # Adjust the threshold according to your microphone sensitivity\n",
    "    SILENCE_LIMIT = 3  # Time of silence needed to stop recording (seconds)\n",
    "    WAVE_OUTPUT_FILENAME = \"input.wav\"\n",
    "\n",
    "    audio = pyaudio.PyAudio()\n",
    "\n",
    "    stream = audio.open(format=FORMAT, channels=CHANNELS,\n",
    "                    rate=RATE, input=True,\n",
    "                    frames_per_buffer=CHUNK)\n",
    "\n",
    "    print(\"Recording...\")\n",
    "\n",
    "    frames = []\n",
    "    silent_count = 0\n",
    "    \n",
    "    while True:\n",
    "        data = stream.read(CHUNK)\n",
    "        frames.append(data)\n",
    "        \n",
    "        # Check audio level\n",
    "        decoded_data = np.frombuffer(data, dtype=np.int16)\n",
    "        audio_level = np.max(decoded_data)\n",
    "\n",
    "        if audio_level > THRESHOLD:\n",
    "            silent_count = 0\n",
    "        else:\n",
    "            silent_count += 1\n",
    "\n",
    "        # Check if there's been enough silence to stop recording\n",
    "        if silent_count > SILENCE_LIMIT * RATE / CHUNK:\n",
    "            break\n",
    "\n",
    "    print(\"Finished recording.\")\n",
    "\n",
    "    stream.stop_stream()\n",
    "    stream.close()\n",
    "    audio.terminate()\n",
    " \n",
    "    waveFile = wave.open(WAVE_OUTPUT_FILENAME, 'wb')\n",
    "    waveFile.setnchannels(CHANNELS)\n",
    "    waveFile.setsampwidth(audio.get_sample_size(FORMAT))\n",
    "    waveFile.setframerate(RATE)\n",
    "    waveFile.writeframes(b''.join(frames))\n",
    "    waveFile.close()\n",
    "\n",
    "recording()\n",
    "\n",
    "audio_file= open(\"input.wav\", \"rb\")\n",
    "transcript = openai.Audio.transcribe(\"whisper-1\", audio_file)"
   ]
  },
  {
   "cell_type": "code",
   "execution_count": 6,
   "id": "81aca6c8",
   "metadata": {
    "scrolled": false
   },
   "outputs": [
    {
     "name": "stdout",
     "output_type": "stream",
     "text": [
      "{\n",
      "  \"text\": \"[(\\ube14\\ub799\\ud551\\ud06c\\uc758 \\uc544\\uc774\\ucee8\\ud0dd)] [(\\ube14\\ub799\\ud551\\ud06c\\uc758 \\uc544\\uc774\\ucee8\\ud0dd)] [(\\ube14\\ub799\\ud551\\ud06c\\uc758 \\uc544\\uc774\\ucee8\\ud0dd)]\"\n",
      "}\n"
     ]
    }
   ],
   "source": [
    "print(transcript)"
   ]
  },
  {
   "cell_type": "code",
   "execution_count": null,
   "id": "0d0bc42a",
   "metadata": {
    "scrolled": true
   },
   "outputs": [],
   "source": []
  },
  {
   "cell_type": "code",
   "execution_count": null,
   "id": "c2348ca0",
   "metadata": {},
   "outputs": [],
   "source": []
  }
 ],
 "metadata": {
  "kernelspec": {
   "display_name": "Python 3 (ipykernel)",
   "language": "python",
   "name": "python3"
  },
  "language_info": {
   "codemirror_mode": {
    "name": "ipython",
    "version": 3
   },
   "file_extension": ".py",
   "mimetype": "text/x-python",
   "name": "python",
   "nbconvert_exporter": "python",
   "pygments_lexer": "ipython3",
   "version": "3.10.10"
  }
 },
 "nbformat": 4,
 "nbformat_minor": 5
}
